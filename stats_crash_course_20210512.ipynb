{
 "cells": [
  {
   "cell_type": "code",
   "execution_count": null,
   "metadata": {},
   "outputs": [],
   "source": [
    "## May 12 2021\n",
    "## Author: Benjamin Diethelm-Varela\n",
    "## Crash course on statistics"
   ]
  },
  {
   "cell_type": "markdown",
   "metadata": {},
   "source": [
    "# Variable types\n",
    "The data types influence how data is summarized and visualized\n",
    "\n",
    "Types are:\n",
    "- Quantitative: numerical variables. Amiable to descriptive statistics (e.g. mean)\n",
    "    - Continuous: any value within an interval (height, weight, time)\n",
    "    - Discrete: countable value with a finite number of possible values (children)\n",
    "- Categorical (qualitative): classifies items into groups with no numerical meaning to them\n",
    "    - Ordinal: has some order or ranking associated to it (e.g. college class)\n",
    "    - Nominal: no ranking (e.g. race, US States)"
   ]
  },
  {
   "cell_type": "markdown",
   "metadata": {},
   "source": [
    "# Study design\n",
    "There are a myriad of study designs available, from exploratory analysis of available data, to well studied data collection efforts\n",
    "\n",
    "Study designs are performed in many fields: clinical trials, public opinion surveys, etc.\n",
    "\n",
    "The general types of study designs are:\n",
    "- Exploratory (watch for p-hacking here) vs confirmatory studies\n",
    "- Comparative (contrast one quantity to another) vs non-comparative studies (predict absolute quantities, e.g. blood pressure)\n",
    "- Observational (arises naturally) vs experimental (involves manipulation) studies\n",
    "\n",
    "Typical epidemiological studies, such as effects of tobacco on lifespan, are observational. An example of experimental studies would be observing the effect of a fertilizer on crop yields.\n",
    "\n",
    "On experiments, we randomly assign subjects to groups. On observational analyses, subjects are said to be exposed\n",
    "\n",
    "## Statistical power\n",
    "Power to assess whether a study design is likely to yield meaningful findings\n",
    "\n",
    "## Bias\n",
    "Measurements systematically off-target, or sample not representative. This is especially acute in observational studies"
   ]
  },
  {
   "cell_type": "markdown",
   "metadata": {},
   "source": [
    "# Categorical and quantitative data"
   ]
  },
  {
   "cell_type": "code",
   "execution_count": 31,
   "metadata": {},
   "outputs": [
    {
     "data": {
      "text/html": [
       "<div>\n",
       "<style scoped>\n",
       "    .dataframe tbody tr th:only-of-type {\n",
       "        vertical-align: middle;\n",
       "    }\n",
       "\n",
       "    .dataframe tbody tr th {\n",
       "        vertical-align: top;\n",
       "    }\n",
       "\n",
       "    .dataframe thead th {\n",
       "        text-align: right;\n",
       "    }\n",
       "</style>\n",
       "<table border=\"1\" class=\"dataframe\">\n",
       "  <thead>\n",
       "    <tr style=\"text-align: right;\">\n",
       "      <th></th>\n",
       "      <th>topic</th>\n",
       "      <th>number of researchers</th>\n",
       "      <th>number of laboratories</th>\n",
       "    </tr>\n",
       "  </thead>\n",
       "  <tbody>\n",
       "    <tr>\n",
       "      <th>0</th>\n",
       "      <td>Computational chemistry</td>\n",
       "      <td>82</td>\n",
       "      <td>6</td>\n",
       "    </tr>\n",
       "    <tr>\n",
       "      <th>1</th>\n",
       "      <td>Medicinal chemistry</td>\n",
       "      <td>45</td>\n",
       "      <td>8</td>\n",
       "    </tr>\n",
       "    <tr>\n",
       "      <th>2</th>\n",
       "      <td>Biochemistry</td>\n",
       "      <td>50</td>\n",
       "      <td>6</td>\n",
       "    </tr>\n",
       "    <tr>\n",
       "      <th>3</th>\n",
       "      <td>Structural biology</td>\n",
       "      <td>96</td>\n",
       "      <td>12</td>\n",
       "    </tr>\n",
       "    <tr>\n",
       "      <th>4</th>\n",
       "      <td>Microbiology</td>\n",
       "      <td>84</td>\n",
       "      <td>10</td>\n",
       "    </tr>\n",
       "    <tr>\n",
       "      <th>5</th>\n",
       "      <td>Immunology</td>\n",
       "      <td>75</td>\n",
       "      <td>9</td>\n",
       "    </tr>\n",
       "    <tr>\n",
       "      <th>6</th>\n",
       "      <td>Pharmacology</td>\n",
       "      <td>77</td>\n",
       "      <td>8</td>\n",
       "    </tr>\n",
       "    <tr>\n",
       "      <th>7</th>\n",
       "      <td>Genetics</td>\n",
       "      <td>60</td>\n",
       "      <td>6</td>\n",
       "    </tr>\n",
       "    <tr>\n",
       "      <th>8</th>\n",
       "      <td>Pharmacogenomics</td>\n",
       "      <td>42</td>\n",
       "      <td>5</td>\n",
       "    </tr>\n",
       "    <tr>\n",
       "      <th>9</th>\n",
       "      <td>Pharmaceutics</td>\n",
       "      <td>87</td>\n",
       "      <td>11</td>\n",
       "    </tr>\n",
       "    <tr>\n",
       "      <th>10</th>\n",
       "      <td>Pharmacometrics</td>\n",
       "      <td>62</td>\n",
       "      <td>5</td>\n",
       "    </tr>\n",
       "    <tr>\n",
       "      <th>11</th>\n",
       "      <td>Cosmetics</td>\n",
       "      <td>35</td>\n",
       "      <td>4</td>\n",
       "    </tr>\n",
       "    <tr>\n",
       "      <th>12</th>\n",
       "      <td>Regulatory Science</td>\n",
       "      <td>73</td>\n",
       "      <td>5</td>\n",
       "    </tr>\n",
       "    <tr>\n",
       "      <th>13</th>\n",
       "      <td>Public Health</td>\n",
       "      <td>61</td>\n",
       "      <td>4</td>\n",
       "    </tr>\n",
       "  </tbody>\n",
       "</table>\n",
       "</div>"
      ],
      "text/plain": [
       "                      topic  number of researchers  number of laboratories\n",
       "0   Computational chemistry                     82                       6\n",
       "1       Medicinal chemistry                     45                       8\n",
       "2              Biochemistry                     50                       6\n",
       "3        Structural biology                     96                      12\n",
       "4              Microbiology                     84                      10\n",
       "5                Immunology                     75                       9\n",
       "6              Pharmacology                     77                       8\n",
       "7                  Genetics                     60                       6\n",
       "8          Pharmacogenomics                     42                       5\n",
       "9             Pharmaceutics                     87                      11\n",
       "10          Pharmacometrics                     62                       5\n",
       "11                Cosmetics                     35                       4\n",
       "12       Regulatory Science                     73                       5\n",
       "13            Public Health                     61                       4"
      ]
     },
     "execution_count": 31,
     "metadata": {},
     "output_type": "execute_result"
    }
   ],
   "source": [
    "# We'll use a toy dataset for these notes\n",
    "# Visualizations in seaborn\n",
    "# Import pandas and numpy\n",
    "%matplotlib widget\n",
    "import matplotlib.pyplot as plt\n",
    "import seaborn as sns\n",
    "import pandas as pd\n",
    "import numpy as np\n",
    "\n",
    "# Create some lists\n",
    "topics = ['Computational chemistry', 'Medicinal chemistry', 'Biochemistry', \n",
    "          'Structural biology', 'Microbiology', 'Immunology', 'Pharmacology',\n",
    "          'Genetics', 'Pharmacogenomics', 'Pharmaceutics', 'Pharmacometrics',\n",
    "         'Cosmetics', 'Regulatory Science', 'Public Health']\n",
    "researchers = [82, 45, 50, 96, 84, 75, 77, 60, 42, 87, 62, 35, 73, 61]\n",
    "labs = [6,8,6,12,10,9,8,6,5,11,5,4,5,4]\n",
    "\n",
    "# Weld them into a dictionary\n",
    "department = {'topic': topics, 'number of researchers': researchers,\n",
    "              'number of laboratories': labs}\n",
    "\n",
    "# Create a dataframe\n",
    "df = pd.DataFrame(department)\n",
    "df"
   ]
  },
  {
   "cell_type": "markdown",
   "metadata": {},
   "source": [
    "## Categorical data\n",
    "This data classifies items into groups. An example is marital status. Another is ethnicity.\n",
    "\n",
    "__Frequency tables__ are a common way of summarizing this data. For each category, we report a count and a percentage\n",
    "\n",
    "__Bar charts__ are a common way of visualizing this data. On the x axis we collect categories, and on the y axis we record either frequency or percentage\n",
    "\n",
    "Pie charts are also a common way, but there are issues with it, including labeling difficulties for small categories, and sometimes misleading visuals if strict labeling is not used"
   ]
  },
  {
   "cell_type": "code",
   "execution_count": 23,
   "metadata": {},
   "outputs": [
    {
     "data": {
      "text/html": [
       "<div>\n",
       "<style scoped>\n",
       "    .dataframe tbody tr th:only-of-type {\n",
       "        vertical-align: middle;\n",
       "    }\n",
       "\n",
       "    .dataframe tbody tr th {\n",
       "        vertical-align: top;\n",
       "    }\n",
       "\n",
       "    .dataframe thead th {\n",
       "        text-align: right;\n",
       "    }\n",
       "</style>\n",
       "<table border=\"1\" class=\"dataframe\">\n",
       "  <thead>\n",
       "    <tr style=\"text-align: right;\">\n",
       "      <th></th>\n",
       "      <th>topic</th>\n",
       "      <th>number of researchers</th>\n",
       "      <th>number of laboratories</th>\n",
       "    </tr>\n",
       "  </thead>\n",
       "  <tbody>\n",
       "    <tr>\n",
       "      <th>0</th>\n",
       "      <td>Computational chemistry</td>\n",
       "      <td>82</td>\n",
       "      <td>6</td>\n",
       "    </tr>\n",
       "    <tr>\n",
       "      <th>1</th>\n",
       "      <td>Medicinal chemistry</td>\n",
       "      <td>45</td>\n",
       "      <td>8</td>\n",
       "    </tr>\n",
       "    <tr>\n",
       "      <th>2</th>\n",
       "      <td>Biochemistry</td>\n",
       "      <td>50</td>\n",
       "      <td>6</td>\n",
       "    </tr>\n",
       "    <tr>\n",
       "      <th>3</th>\n",
       "      <td>Structural biology</td>\n",
       "      <td>96</td>\n",
       "      <td>12</td>\n",
       "    </tr>\n",
       "    <tr>\n",
       "      <th>4</th>\n",
       "      <td>Microbiology</td>\n",
       "      <td>84</td>\n",
       "      <td>10</td>\n",
       "    </tr>\n",
       "    <tr>\n",
       "      <th>5</th>\n",
       "      <td>Immunology</td>\n",
       "      <td>75</td>\n",
       "      <td>9</td>\n",
       "    </tr>\n",
       "    <tr>\n",
       "      <th>6</th>\n",
       "      <td>Pharmacology</td>\n",
       "      <td>77</td>\n",
       "      <td>8</td>\n",
       "    </tr>\n",
       "    <tr>\n",
       "      <th>7</th>\n",
       "      <td>Genetics</td>\n",
       "      <td>60</td>\n",
       "      <td>6</td>\n",
       "    </tr>\n",
       "    <tr>\n",
       "      <th>8</th>\n",
       "      <td>Pharmacogenomics</td>\n",
       "      <td>42</td>\n",
       "      <td>5</td>\n",
       "    </tr>\n",
       "    <tr>\n",
       "      <th>9</th>\n",
       "      <td>Pharmaceutics</td>\n",
       "      <td>87</td>\n",
       "      <td>11</td>\n",
       "    </tr>\n",
       "    <tr>\n",
       "      <th>10</th>\n",
       "      <td>Pharmacometrics</td>\n",
       "      <td>62</td>\n",
       "      <td>5</td>\n",
       "    </tr>\n",
       "    <tr>\n",
       "      <th>11</th>\n",
       "      <td>Cosmetics</td>\n",
       "      <td>35</td>\n",
       "      <td>4</td>\n",
       "    </tr>\n",
       "    <tr>\n",
       "      <th>12</th>\n",
       "      <td>Regulatory Science</td>\n",
       "      <td>73</td>\n",
       "      <td>5</td>\n",
       "    </tr>\n",
       "    <tr>\n",
       "      <th>13</th>\n",
       "      <td>Public Health</td>\n",
       "      <td>61</td>\n",
       "      <td>4</td>\n",
       "    </tr>\n",
       "    <tr>\n",
       "      <th>14</th>\n",
       "      <td>Total</td>\n",
       "      <td>929</td>\n",
       "      <td>99</td>\n",
       "    </tr>\n",
       "  </tbody>\n",
       "</table>\n",
       "</div>"
      ],
      "text/plain": [
       "                      topic  number of researchers  number of laboratories\n",
       "0   Computational chemistry                     82                       6\n",
       "1       Medicinal chemistry                     45                       8\n",
       "2              Biochemistry                     50                       6\n",
       "3        Structural biology                     96                      12\n",
       "4              Microbiology                     84                      10\n",
       "5                Immunology                     75                       9\n",
       "6              Pharmacology                     77                       8\n",
       "7                  Genetics                     60                       6\n",
       "8          Pharmacogenomics                     42                       5\n",
       "9             Pharmaceutics                     87                      11\n",
       "10          Pharmacometrics                     62                       5\n",
       "11                Cosmetics                     35                       4\n",
       "12       Regulatory Science                     73                       5\n",
       "13            Public Health                     61                       4\n",
       "14                    Total                    929                      99"
      ]
     },
     "execution_count": 23,
     "metadata": {},
     "output_type": "execute_result"
    }
   ],
   "source": [
    "# frequency data for number of researchers\n",
    "total = np.sum(df['number of researchers'])\n",
    "totalr = np.sum(df['number of laboratories'])\n",
    "totals = {'topic': 'Total', 'number of researchers': total,\n",
    "              'number of laboratories': totalr}\n",
    "dftot = df.append(totals, ignore_index=True)\n",
    "dftot"
   ]
  },
  {
   "cell_type": "code",
   "execution_count": 24,
   "metadata": {},
   "outputs": [
    {
     "data": {
      "text/html": [
       "<div>\n",
       "<style scoped>\n",
       "    .dataframe tbody tr th:only-of-type {\n",
       "        vertical-align: middle;\n",
       "    }\n",
       "\n",
       "    .dataframe tbody tr th {\n",
       "        vertical-align: top;\n",
       "    }\n",
       "\n",
       "    .dataframe thead th {\n",
       "        text-align: right;\n",
       "    }\n",
       "</style>\n",
       "<table border=\"1\" class=\"dataframe\">\n",
       "  <thead>\n",
       "    <tr style=\"text-align: right;\">\n",
       "      <th></th>\n",
       "      <th>topic</th>\n",
       "      <th>number of researchers</th>\n",
       "      <th>frequency</th>\n",
       "    </tr>\n",
       "  </thead>\n",
       "  <tbody>\n",
       "    <tr>\n",
       "      <th>0</th>\n",
       "      <td>Computational chemistry</td>\n",
       "      <td>82</td>\n",
       "      <td>8.826695</td>\n",
       "    </tr>\n",
       "    <tr>\n",
       "      <th>1</th>\n",
       "      <td>Medicinal chemistry</td>\n",
       "      <td>45</td>\n",
       "      <td>4.843918</td>\n",
       "    </tr>\n",
       "    <tr>\n",
       "      <th>2</th>\n",
       "      <td>Biochemistry</td>\n",
       "      <td>50</td>\n",
       "      <td>5.382131</td>\n",
       "    </tr>\n",
       "    <tr>\n",
       "      <th>3</th>\n",
       "      <td>Structural biology</td>\n",
       "      <td>96</td>\n",
       "      <td>10.333692</td>\n",
       "    </tr>\n",
       "    <tr>\n",
       "      <th>4</th>\n",
       "      <td>Microbiology</td>\n",
       "      <td>84</td>\n",
       "      <td>9.041981</td>\n",
       "    </tr>\n",
       "    <tr>\n",
       "      <th>5</th>\n",
       "      <td>Immunology</td>\n",
       "      <td>75</td>\n",
       "      <td>8.073197</td>\n",
       "    </tr>\n",
       "    <tr>\n",
       "      <th>6</th>\n",
       "      <td>Pharmacology</td>\n",
       "      <td>77</td>\n",
       "      <td>8.288482</td>\n",
       "    </tr>\n",
       "    <tr>\n",
       "      <th>7</th>\n",
       "      <td>Genetics</td>\n",
       "      <td>60</td>\n",
       "      <td>6.458558</td>\n",
       "    </tr>\n",
       "    <tr>\n",
       "      <th>8</th>\n",
       "      <td>Pharmacogenomics</td>\n",
       "      <td>42</td>\n",
       "      <td>4.520990</td>\n",
       "    </tr>\n",
       "    <tr>\n",
       "      <th>9</th>\n",
       "      <td>Pharmaceutics</td>\n",
       "      <td>87</td>\n",
       "      <td>9.364909</td>\n",
       "    </tr>\n",
       "    <tr>\n",
       "      <th>10</th>\n",
       "      <td>Pharmacometrics</td>\n",
       "      <td>62</td>\n",
       "      <td>6.673843</td>\n",
       "    </tr>\n",
       "    <tr>\n",
       "      <th>11</th>\n",
       "      <td>Cosmetics</td>\n",
       "      <td>35</td>\n",
       "      <td>3.767492</td>\n",
       "    </tr>\n",
       "    <tr>\n",
       "      <th>12</th>\n",
       "      <td>Regulatory Science</td>\n",
       "      <td>73</td>\n",
       "      <td>7.857912</td>\n",
       "    </tr>\n",
       "    <tr>\n",
       "      <th>13</th>\n",
       "      <td>Public Health</td>\n",
       "      <td>61</td>\n",
       "      <td>6.566200</td>\n",
       "    </tr>\n",
       "    <tr>\n",
       "      <th>14</th>\n",
       "      <td>Total</td>\n",
       "      <td>929</td>\n",
       "      <td>100.000000</td>\n",
       "    </tr>\n",
       "  </tbody>\n",
       "</table>\n",
       "</div>"
      ],
      "text/plain": [
       "                      topic  number of researchers   frequency\n",
       "0   Computational chemistry                     82    8.826695\n",
       "1       Medicinal chemistry                     45    4.843918\n",
       "2              Biochemistry                     50    5.382131\n",
       "3        Structural biology                     96   10.333692\n",
       "4              Microbiology                     84    9.041981\n",
       "5                Immunology                     75    8.073197\n",
       "6              Pharmacology                     77    8.288482\n",
       "7                  Genetics                     60    6.458558\n",
       "8          Pharmacogenomics                     42    4.520990\n",
       "9             Pharmaceutics                     87    9.364909\n",
       "10          Pharmacometrics                     62    6.673843\n",
       "11                Cosmetics                     35    3.767492\n",
       "12       Regulatory Science                     73    7.857912\n",
       "13            Public Health                     61    6.566200\n",
       "14                    Total                    929  100.000000"
      ]
     },
     "execution_count": 24,
     "metadata": {},
     "output_type": "execute_result"
    }
   ],
   "source": [
    "percentages = dftot['number of researchers']/dftot.loc[14, 'number of researchers']*100\n",
    "freqtable = pd.DataFrame({'topic' :dftot['topic'], 'number of researchers': dftot['number of researchers'],\n",
    "                         'frequency': percentages})\n",
    "freqtable"
   ]
  },
  {
   "cell_type": "code",
   "execution_count": 26,
   "metadata": {},
   "outputs": [
    {
     "data": {
      "application/vnd.jupyter.widget-view+json": {
       "model_id": "4e55f801774d4706a44e95e27e733555",
       "version_major": 2,
       "version_minor": 0
      },
      "text/plain": [
       "Canvas(toolbar=Toolbar(toolitems=[('Home', 'Reset original view', 'home', 'home'), ('Back', 'Back to previous …"
      ]
     },
     "metadata": {},
     "output_type": "display_data"
    }
   ],
   "source": [
    "# Bar chart with the data\n",
    "freqtable2 = freqtable.iloc[0:14,:];\n",
    "plt.figure();\n",
    "sns.barplot(x=freqtable2['topic'], y=freqtable2['number of researchers'], color='darkred');\n",
    "plt.xlabel('Department')\n",
    "plt.ylabel('Number of researchers')\n",
    "plt.title('Pharmaceutical Sciences research roster composition')\n",
    "plt.xticks(rotation=90);\n",
    "plt.tight_layout();"
   ]
  },
  {
   "cell_type": "markdown",
   "metadata": {},
   "source": [
    "## Quantitative data\n",
    "### Histograms\n",
    "__Histograms__ are typically the first graphical display of quantitative data, that is, data with a numerical value associated where mathematical operations make sense. Histograms are ok with either discrete or continuous variables\n",
    "\n",
    "Histograms are excellent for a first time data exploration effort. On any histogram, the x-axis shows the interval of possible values for the variable, while the y-axis shows the frequency associated with each value subgroup (called bins)\n",
    "\n",
    "Histograms have the following four features:\n",
    "- Shape: overall appearance. Might be symmetric, skewed to a side, or conforming to a distribution\n",
    "- Center: the mean or the median of the histogram\n",
    "- Spread: how far the data spreads to the extreme values of the variable. The main spread desctriptor is range (max-min)\n",
    "- Outliers: data points that fall far from most other data points\n",
    "\n",
    "So, for example, a dataset, when represented on a histogram could be: bell-shaped unimodal, with a mean and median of 50, a range of 20, and no apparent outliers.\n",
    "\n",
    "Bell-shaped distributions are easy to work with in terms of statistics. Unimodal distributions make things even easier.\n",
    "\n",
    "Do not confuse histograms with bar charts. They look similar but are very different. Histograms always look at quantitative data. Bar charts always look at categorical data.\n",
    "\n",
    "On a bimodal distribution, there are two values that are of high frequency.\n",
    "Right- or left-skewed distributions have long \"tails\". Those tails are usually determined by outliers\n",
    "\n",
    "The __median__ cuts the data into two groups of equal total frequency. It is a nice robust measure of center\n",
    "\n",
    "Especially when there are big outliers, make sure to indicate the range where the bulk of the data is.\n",
    "\n",
    "Remember: the __mean__ is sensitive to extreme values. The __median__ isn't"
   ]
  },
  {
   "cell_type": "code",
   "execution_count": 27,
   "metadata": {},
   "outputs": [
    {
     "data": {
      "application/vnd.jupyter.widget-view+json": {
       "model_id": "f75a655dab8640bbb7eb429e7839599f",
       "version_major": 2,
       "version_minor": 0
      },
      "text/plain": [
       "Canvas(toolbar=Toolbar(toolitems=[('Home', 'Reset original view', 'home', 'home'), ('Back', 'Back to previous …"
      ]
     },
     "metadata": {},
     "output_type": "display_data"
    },
    {
     "data": {
      "text/plain": [
       "Text(0.5, 1.0, 'Lab staffing')"
      ]
     },
     "execution_count": 27,
     "metadata": {},
     "output_type": "execute_result"
    }
   ],
   "source": [
    "# The histogram below shows how many labs for each researcher number interval there are\n",
    "plt.figure()\n",
    "sns.histplot(data=df['number of researchers'], bins = 10)\n",
    "plt.xlabel('Number of researchers in lab')\n",
    "plt.ylabel('Frequency')\n",
    "plt.title('Lab staffing')"
   ]
  },
  {
   "cell_type": "markdown",
   "metadata": {},
   "source": [
    "### Numerical summaries\n",
    "Histograms provide a good visual feel for the data, but sometimes it's important to dive deeper. Numerical summaries allow for that, down to the decimal.\n",
    "\n",
    "The describe function in Python provides a numerical summary.\n",
    "\n",
    "It is most common to see a five-number summary: \n",
    "\n",
    "- minimum, \n",
    "- 1st quartile (Q1; 25% tile)\n",
    "- median (Q2; 50% tile)\n",
    "- 3rd quartile (Q3; 75% tile)\n",
    "- maximum\n",
    "\n",
    "The 1st quartile's value means that 25% of the data falls below that value. Similar concepts for the remaining quartiles.\n",
    "\n",
    "#### IQR\n",
    "\n",
    "An important statistic is the Inerquartile Range (IQR). It is defined as:\n",
    "    \n",
    "    IQR = Q3 - Q1\n",
    "\n",
    "IQR is another measure of spread. It gives you an idea of where most of the data is falling. The value represents the spread of the middle 50% of the data.\n",
    "\n",
    "Data that are skewed to either side will show a mean that differs from the median significantly. It will also have a large stdev\n",
    "\n",
    "Median and IQR are robust measures, however, as they are insensitive to outliers\n",
    "\n",
    "#### Standard deviation\n",
    "\n",
    "Another important measure of spread is the standard deviation. In a nutshell, it describes how much on average the data spreads out of the mean\n",
    "It can be interpreted as: on average, a given value will lie within 1 SD above or below the mean"
   ]
  },
  {
   "cell_type": "markdown",
   "metadata": {},
   "source": [
    "### Getting descriptive statistics with pandas and numpy\n",
    "Pandas and NumPy have methods to get common statistical parameters: mean, 25th percentile (1st quartile), median (50th percentile, 2nd quartile), and 75th percentile (3rd quartile)\n",
    "Let's use the lab dataset for that"
   ]
  },
  {
   "cell_type": "code",
   "execution_count": 17,
   "metadata": {},
   "outputs": [
    {
     "name": "stdout",
     "output_type": "stream",
     "text": [
      "Mean:\n",
      "66.35714285714286\n",
      "25th percentile:\n",
      "52.5\n",
      "Median:\n",
      "67.5\n",
      "75th percentile:\n",
      "80.75\n",
      "\n",
      "\n",
      "Mean:\n",
      "66.35714285714286\n",
      "25th percentile:\n",
      "52.5\n",
      "Median:\n",
      "67.5\n",
      "75th percentile:\n",
      "80.75\n"
     ]
    }
   ],
   "source": [
    "res = df['number of researchers']\n",
    "\n",
    "# Pandas methods\n",
    "print('Mean:')\n",
    "print(res.mean())\n",
    "print('25th percentile:')\n",
    "print(res.quantile(0.25))\n",
    "print('Median:')\n",
    "print(res.median()) # Remember that the median is the 50th percentile, or 2nd quartile\n",
    "print('75th percentile:')\n",
    "print(res.quantile(0.75))\n",
    "\n",
    "print('\\n')\n",
    "\n",
    "# Numpy methods\n",
    "print('Mean:')\n",
    "print(np.mean(res))\n",
    "print('25th percentile:')\n",
    "print(np.percentile(res, 25))\n",
    "print('Median:')\n",
    "print(np.percentile(res, 50))\n",
    "print('75th percentile:')\n",
    "print(np.percentile(res, 75))"
   ]
  },
  {
   "cell_type": "code",
   "execution_count": 18,
   "metadata": {},
   "outputs": [
    {
     "data": {
      "text/plain": [
       "count    14.000000\n",
       "mean     66.357143\n",
       "std      18.566335\n",
       "min      35.000000\n",
       "25%      52.500000\n",
       "50%      67.500000\n",
       "75%      80.750000\n",
       "max      96.000000\n",
       "Name: number of researchers, dtype: float64"
      ]
     },
     "execution_count": 18,
     "metadata": {},
     "output_type": "execute_result"
    }
   ],
   "source": [
    "# The describe method provides the same functionality but in an easier fashion\n",
    "# Numerical summary for number of researchers\n",
    "df['number of researchers'].describe()"
   ]
  },
  {
   "cell_type": "code",
   "execution_count": 19,
   "metadata": {},
   "outputs": [
    {
     "data": {
      "text/plain": [
       "28.25"
      ]
     },
     "execution_count": 19,
     "metadata": {},
     "output_type": "execute_result"
    }
   ],
   "source": [
    "# Calculate IQR for number of researchers\n",
    "iqr = 80.750000 - 52.500000\n",
    "iqr"
   ]
  },
  {
   "cell_type": "markdown",
   "metadata": {},
   "source": [
    "### Standard score\n",
    "Mean and standard deviation are commonly reported variables for distributions. They are informative and allow getting a good idea of how the data behaves is the data is uniformly distributed\n",
    "\n",
    "On a typical bell-shaped curve, we compute the mean, as well as one, two and three values up and down the stdev\n",
    "\n",
    "So, for a curve with a mean of 0 and stdev of 1, we would mark 0, as well as 1, 2, and 3 to the right, and -1, -2, and -3 to the left.\n",
    "On a normal distribution, 68% of values fall within 1 stdev. 95% of values fall within 2 stedvs, and 99.7% of values fall within 3 stdevs. Those values are known as the 68-95-99.7 rule, or the \"empirical rule\"\n",
    "\n",
    "The standard score (Z score) tells us how unusual a value is. It's defined as:\n",
    "\n",
    "    Standard score = (value-mean)/stdev\n",
    "    \n",
    "The closer to zero Z is, either on the negative or positive side, the less unusual the value is (again, assuming a normal dist.).\n",
    "Negative Z values are below the mean. Positive Z values are above the mean."
   ]
  },
  {
   "cell_type": "markdown",
   "metadata": {},
   "source": [
    "### Box plots\n",
    "Another useful visual for quantitative data\n",
    "\n",
    "Boxplots visualize summarize the five values of the numerical summary: min, Q1, median, Q3, max. It also depicts the IQR.\n",
    "\n",
    "In a boxplot, the upper whisker is the max. The upper edge of the box is the Q3, the middle line is the median (Q2), the lower edge of the box is the Q1, and the lower whisker is the min. The length of the box is the IQR.\n",
    "\n",
    "Thus, boxplots immediately convey the spread of both all the data, and of the 50% middle data."
   ]
  },
  {
   "cell_type": "code",
   "execution_count": 30,
   "metadata": {},
   "outputs": [
    {
     "data": {
      "application/vnd.jupyter.widget-view+json": {
       "model_id": "5ea59e4415084cd899b3bba05e470621",
       "version_major": 2,
       "version_minor": 0
      },
      "text/plain": [
       "Canvas(toolbar=Toolbar(toolitems=[('Home', 'Reset original view', 'home', 'home'), ('Back', 'Back to previous …"
      ]
     },
     "metadata": {},
     "output_type": "display_data"
    },
    {
     "data": {
      "text/plain": [
       "Text(0.5, 1.0, 'Pharmaceutical Sciences lab staffing')"
      ]
     },
     "execution_count": 30,
     "metadata": {},
     "output_type": "execute_result"
    }
   ],
   "source": [
    "plt.figure();\n",
    "sns.boxplot(y=df['number of researchers']);\n",
    "plt.ylabel('Number of researchers in lab')\n",
    "plt.xlabel('Pharmaceutical Sciences Division')\n",
    "plt.title('Pharmaceutical Sciences lab staffing')"
   ]
  },
  {
   "cell_type": "markdown",
   "metadata": {},
   "source": [
    "On skewed distributions, boxplots typically identify outliers specifically as dots above or below the whiskers.\n",
    "\n",
    "Note: boxplots can hide gaps and clusters. Consider the histogram above; the missing bins are not captured in the boxplot\n",
    "\n",
    "Boxplots are very useful for comparing sets of observations."
   ]
  }
 ],
 "metadata": {
  "kernelspec": {
   "display_name": "Python 3",
   "language": "python",
   "name": "python3"
  },
  "language_info": {
   "codemirror_mode": {
    "name": "ipython",
    "version": 3
   },
   "file_extension": ".py",
   "mimetype": "text/x-python",
   "name": "python",
   "nbconvert_exporter": "python",
   "pygments_lexer": "ipython3",
   "version": "3.8.5"
  }
 },
 "nbformat": 4,
 "nbformat_minor": 4
}
